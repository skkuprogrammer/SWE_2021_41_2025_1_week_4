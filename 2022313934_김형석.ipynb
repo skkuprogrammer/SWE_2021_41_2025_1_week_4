{
  "nbformat": 4,
  "nbformat_minor": 0,
  "metadata": {
    "colab": {
      "provenance": [],
      "toc_visible": true,
      "gpuType": "T4"
    },
    "kernelspec": {
      "name": "python3",
      "display_name": "Python 3"
    },
    "language_info": {
      "name": "python"
    },
    "accelerator": "GPU"
  },
  "cells": [
    {
      "cell_type": "code",
      "execution_count": 11,
      "metadata": {
        "colab": {
          "base_uri": "https://localhost:8080/"
        },
        "id": "K3dHZoSVs_QL",
        "outputId": "57049113-73e4-44f5-9269-0e508bab0716"
      },
      "outputs": [
        {
          "name": "stdout",
          "output_type": "stream",
          "text": [
            "19\n"
          ]
        },
        {
          "output_type": "execute_result",
          "data": {
            "text/plain": [
              "True"
            ]
          },
          "metadata": {},
          "execution_count": 11
        }
      ],
      "source": [
        "def isHappy(n):\n",
        "  # Complete the isHappy() function below\n",
        "  # The function should return either True or False\n",
        "\n",
        "  # for loop or while loop\n",
        "  seen = set()\n",
        "\n",
        "  while n != 1 and n not in seen: #happy and not happy ends\n",
        "      seen.add(n) #remember n\n",
        "      sum = 0 #initaialize sum\n",
        "      while n > 0:\n",
        "        remain = n % 10\n",
        "        n = n // 10\n",
        "        sum += remain * remain\n",
        "      n = sum\n",
        "\n",
        "  if n == 1:\n",
        "    return True\n",
        "  else:\n",
        "    return False\n",
        "\n",
        "num = int(input())\n",
        "isHappy(num)"
      ]
    },
    {
      "cell_type": "code",
      "source": [],
      "metadata": {
        "id": "xCf-3II3tsZ3"
      },
      "execution_count": null,
      "outputs": []
    }
  ]
}